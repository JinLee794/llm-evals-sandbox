{
 "cells": [
  {
   "cell_type": "markdown",
   "metadata": {},
   "source": [
    "# Setup Verification Notebook\n",
    "\n",
    "This notebook verifies that your environment is properly configured for the LLM Evaluations Workshop.\n",
    "\n",
    "## Prerequisites\n",
    "1. Python virtual environment activated\n",
    "2. Required packages installed (`pip install -r requirements.txt`)\n",
    "3. Azure OpenAI credentials configured in `.env` file\n",
    "4. Azure AI Foundry project set up"
   ]
  },
  {
   "cell_type": "markdown",
   "metadata": {},
   "source": [
    "## 1. Import Dependencies"
   ]
  },
  {
   "cell_type": "code",
   "execution_count": null,
   "metadata": {},
   "outputs": [],
   "source": [
    "# Test core package imports\n",
    "try:\n",
    "    import azure.ai.evaluation\n",
    "    from openai import AzureOpenAI\n",
    "    from azure.identity import DefaultAzureCredential\n",
    "    import pandas as pd\n",
    "    import numpy as np\n",
    "    import matplotlib.pyplot as plt\n",
    "    import json\n",
    "    import os\n",
    "    from dotenv import load_dotenv\n",
    "    \n",
    "    print(\"✅ All required packages imported successfully!\")\n",
    "except ImportError as e:\n",
    "    print(f\"❌ Import error: {e}\")\n",
    "    print(\"Please run: pip install -r requirements.txt\")"
   ]
  },
  {
   "cell_type": "markdown",
   "metadata": {},
   "source": [
    "## 2. Environment Configuration"
   ]
  },
  {
   "cell_type": "code",
   "execution_count": null,
   "metadata": {},
   "outputs": [],
   "source": [
    "# Load and verify environment variables\n",
    "load_dotenv()\n",
    "\n",
    "required_env_vars = [\n",
    "    'AZURE_OPENAI_ENDPOINT',\n",
    "    'AZURE_OPENAI_API_KEY',\n",
    "    'AZURE_OPENAI_DEPLOYMENT_NAME'\n",
    "]\n",
    "\n",
    "print(\"Environment Variables Check:\")\n",
    "for var in required_env_vars:\n",
    "    value = os.getenv(var)\n",
    "    if value:\n",
    "        # Mask the API key for security\n",
    "        if 'KEY' in var:\n",
    "            display_value = f\"{value[:8]}...{value[-4:]}\" if len(value) > 12 else \"[MASKED]\"\n",
    "        else:\n",
    "            display_value = value\n",
    "        print(f\"✅ {var}: {display_value}\")\n",
    "    else:\n",
    "        print(f\"❌ {var}: Not set\")\n",
    "        print(f\"   Please add {var} to your .env file\")"
   ]
  },
  {
   "cell_type": "markdown",
   "metadata": {},
   "source": [
    "## 3. Azure OpenAI Connection Test"
   ]
  },
  {
   "cell_type": "code",
   "execution_count": null,
   "metadata": {},
   "outputs": [],
   "source": [
    "# Test Azure OpenAI connection\n",
    "try:\n",
    "    from shared_utils.azure_clients import azure_manager\n",
    "    \n",
    "    # Get the client\n",
    "    client = azure_manager.get_openai_client()\n",
    "    \n",
    "    # Test with a simple completion\n",
    "    response = client.chat.completions.create(\n",
    "        model=os.getenv('AZURE_OPENAI_DEPLOYMENT_NAME'),\n",
    "        messages=[\n",
    "            {\"role\": \"user\", \"content\": \"Say 'Hello, Workshop!' if you can hear me.\"}\n",
    "        ],\n",
    "        max_tokens=50\n",
    "    )\n",
    "    \n",
    "    print(\"✅ Azure OpenAI connection successful!\")\n",
    "    print(f\"Response: {response.choices[0].message.content}\")\n",
    "    print(f\"Model: {response.model}\")\n",
    "    print(f\"Tokens used: {response.usage.total_tokens}\")\n",
    "    \n",
    "except Exception as e:\n",
    "    print(f\"❌ Azure OpenAI connection failed: {e}\")\n",
    "    print(\"Please check your Azure OpenAI configuration in .env file\")"
   ]
  },
  {
   "cell_type": "markdown",
   "metadata": {},
   "source": [
    "## 4. Evaluation SDK Test"
   ]
  },
  {
   "cell_type": "code",
   "execution_count": null,
   "metadata": {},
   "outputs": [],
   "source": [
    "# Test Azure AI Evaluation SDK\n",
    "try:\n",
    "    from azure.ai.evaluation import RelevanceEvaluator, evaluate\n",
    "    \n",
    "    # Get model configuration\n",
    "    model_config = azure_manager.get_model_config()\n",
    "    \n",
    "    # Create a simple evaluator\n",
    "    relevance_evaluator = RelevanceEvaluator(model_config=model_config)\n",
    "    \n",
    "    # Test data\n",
    "    test_data = [{\n",
    "        \"query\": \"What is the capital of France?\",\n",
    "        \"response\": \"The capital of France is Paris.\",\n",
    "        \"context\": \"France is a country in Western Europe. Its capital and largest city is Paris.\"\n",
    "    }]\n",
    "    \n",
    "    # Run evaluation\n",
    "    result = evaluate(\n",
    "        data=test_data,\n",
    "        evaluators={\"relevance\": relevance_evaluator}\n",
    "    )\n",
    "    \n",
    "    print(\"✅ Azure AI Evaluation SDK working!\")\n",
    "    print(f\"Relevance score: {result['metrics']['relevance']}\")\n",
    "    \n",
    "except Exception as e:\n",
    "    print(f\"❌ Evaluation SDK test failed: {e}\")\n",
    "    print(\"This might be expected if you don't have AI Foundry set up yet\")"
   ]
  },
  {
   "cell_type": "markdown",
   "metadata": {},
   "source": [
    "## 5. Shared Utilities Test"
   ]
  },
  {
   "cell_type": "code",
   "execution_count": null,
   "metadata": {},
   "outputs": [],
   "source": [
    "# Test shared utilities\n",
    "try:\n",
    "    from shared_utils.data_utils import create_sample_dataset\n",
    "    from shared_utils.evaluation_helpers import format_evaluation_summary\n",
    "    \n",
    "    # Create a sample dataset\n",
    "    sample_data = create_sample_dataset(size=3)\n",
    "    print(\"✅ Sample dataset created:\")\n",
    "    for i, item in enumerate(sample_data[:2]):  # Show first 2 items\n",
    "        print(f\"  {i+1}. Q: {item['question'][:50]}...\")\n",
    "        print(f\"     A: {item['answer'][:50]}...\")\n",
    "    \n",
    "    print(f\"\\n✅ Shared utilities working correctly!\")\n",
    "    \n",
    "except Exception as e:\n",
    "    print(f\"❌ Shared utilities test failed: {e}\")"
   ]
  },
  {
   "cell_type": "markdown",
   "metadata": {},
   "source": [
    "## 6. Directory Structure Verification"
   ]
  },
  {
   "cell_type": "code",
   "execution_count": null,
   "metadata": {},
   "outputs": [],
   "source": [
    "# Verify expected directory structure\n",
    "import os\n",
    "from pathlib import Path\n",
    "\n",
    "workshop_root = Path('.')\n",
    "expected_structure = [\n",
    "    'requirements.txt',\n",
    "    '.env.template',\n",
    "    'shared_utils/',\n",
    "    'shared_utils/azure_clients.py',\n",
    "    'shared_utils/evaluation_helpers.py',\n",
    "    'shared_utils/data_utils.py'\n",
    "]\n",
    "\n",
    "print(\"Directory Structure Check:\")\n",
    "for item in expected_structure:\n",
    "    path = workshop_root / item\n",
    "    if path.exists():\n",
    "        print(f\"✅ {item}\")\n",
    "    else:\n",
    "        print(f\"❌ {item} - Missing\")\n",
    "\n",
    "# Check for .env file\n",
    "env_file = workshop_root / '.env'\n",
    "if env_file.exists():\n",
    "    print(\"✅ .env file exists\")\n",
    "else:\n",
    "    print(\"⚠️  .env file not found - copy .env.template to .env and configure\")"
   ]
  },
  {
   "cell_type": "markdown",
   "metadata": {},
   "source": [
    "## Summary\n",
    "\n",
    "If all checks above show ✅, you're ready to proceed with the workshop!\n",
    "\n",
    "### Next Steps:\n",
    "1. **Lab 1**: Start with `lab1_evaluation_fundamentals.ipynb`\n",
    "2. **Documentation**: Check the `docs/` folder for additional resources\n",
    "3. **Support**: Open an issue in the GitHub repository if you encounter problems\n",
    "\n",
    "### Common Issues:\n",
    "- **Import errors**: Run `pip install -r requirements.txt`\n",
    "- **Azure connection issues**: Verify your `.env` configuration\n",
    "- **Permission errors**: Ensure your Azure account has proper permissions\n",
    "\n",
    "Happy learning! 🚀"
   ]
  }
 ],
 "metadata": {
  "kernelspec": {
   "display_name": "Python 3",
   "language": "python",
   "name": "python3"
  },
  "language_info": {
   "codemirror_mode": {
    "name": "ipython",
    "version": 3
   },
   "file_extension": ".py",
   "mimetype": "text/x-python",
   "name": "python",
   "nbconvert_exporter": "python",
   "pygments_lexer": "ipython3",
   "version": "3.8.0"
  }
 },
 "nbformat": 4,
 "nbformat_minor": 4
}
